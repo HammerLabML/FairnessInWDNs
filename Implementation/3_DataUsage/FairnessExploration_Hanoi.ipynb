{
 "cells": [
  {
   "cell_type": "code",
   "execution_count": null,
   "id": "be7ae674-1a0e-459b-b9dd-11bb5f8673ab",
   "metadata": {},
   "outputs": [],
   "source": [
    "import time\n",
    "import openpyxl\n",
    "import pandas as pd\n",
    "import numpy as np\n",
    "import matplotlib.pyplot as plt\n",
    "from matplotlib import cm\n",
    "from matplotlib.colors import ListedColormap\n",
    "import seaborn as sns\n",
    "from sklearn.model_selection import train_test_split\n",
    "from sklearn.model_selection import KFold\n",
    "from sklearn.linear_model import LinearRegression, Ridge, Lasso\n",
    "from scipy.optimize import minimize\n",
    "from sklearn.metrics import mean_squared_error, r2_score, accuracy_score\n",
    "import wntr"
   ]
  },
  {
   "cell_type": "markdown",
   "id": "4d2e9f10-34f6-491d-adbd-e9b26b02674f",
   "metadata": {
    "jp-MarkdownHeadingCollapsed": true,
    "tags": []
   },
   "source": [
    "# Data loading"
   ]
  },
  {
   "cell_type": "markdown",
   "id": "647cddd8-9be1-456f-9845-251620f906f6",
   "metadata": {},
   "source": [
    "The data frame *df_leaks* holds pressure measurements for different times (along rows) and different sensors (along columns '3', '10', '23', '25', '13', '14', '22', '29'). Moreover, the sensitive features and columns 'y_group1', 'y_group2' and 'y_group3' are binary labels telling us whether (1) or whether not (0) a leak is active for that time in group j for \"j = 1,2,3\". Additionally, the overall label and column 'y' is a binary label telling uns whether (1) or whether not (0) a leak is active in the WDN in general.\n",
    "\n",
    "The data frame *df_information* holds information about the leaks appearing in *df_leaks*. Each leak setting has the main characteristics 'node ID' and 'diameter'. The data *df_leaks* is generated in such a way that for each node in the WDN and each diameter 5, 10 and 15cm, there exists a period of time where a leak, defined by its location and size, is simulated. *df_information* holds information about each such setting (along rows), such as \n",
    "\n",
    "- 'group' (areal group to which the leaky node belongs to),\n",
    "- 'node ID' (location of the leak),\n",
    "- 'diameter' (size of the leak),\n",
    "- 'setting start ID' (time index in the *df_leaks* at which the setting starts),\n",
    "- 'leak start ID' (time index in the *df_leaks* at which the leak starts),\n",
    "- 'leak end ID' (time index in the *df_leaks* at which the leak ends),\n",
    "- 'setting end ID' (time index in the *df_leaks* at which the setting ends)\n",
    "\n",
    "(along columns).\n",
    "\n",
    "The data frame *df_noleaks* is of the same structure as *df_leaks* and is used as a comparison data set. There are no leaks during all time, i.e., along all rows."
   ]
  },
  {
   "cell_type": "code",
   "execution_count": null,
   "id": "4938cbc0-8dd0-4b5e-b828-bb2f64dfc88e",
   "metadata": {},
   "outputs": [],
   "source": [
    "df_leaks = pd.read_excel('../2_DataGeneration/Hanoi/data_leaks.xlsx',\n",
    "                         sheet_name='leaks',\n",
    "                         index_col=0)\n",
    "df_noleaks = pd.read_excel('../2_DataGeneration/Hanoi/data_noleaks.xlsx',\n",
    "                           sheet_name='noleaks',\n",
    "                           index_col=0)\n",
    "df_information = pd.read_excel('../2_DataGeneration/Hanoi/information_leaks.xlsx',\n",
    "                               sheet_name='information',\n",
    "                               index_col=0,\n",
    "                               dtype={'node ID': str})"
   ]
  },
  {
   "cell_type": "code",
   "execution_count": null,
   "id": "35a2ac7d-08bf-4ce9-b94e-d81c58ac455e",
   "metadata": {},
   "outputs": [],
   "source": [
    "df_leaks"
   ]
  },
  {
   "cell_type": "code",
   "execution_count": null,
   "id": "c91cbfb5-15c8-48ef-b760-d537b7f0fe17",
   "metadata": {},
   "outputs": [],
   "source": [
    "df_noleaks"
   ]
  },
  {
   "cell_type": "code",
   "execution_count": null,
   "id": "efd51f2d-1aae-4bed-95d1-e977b4c63a4c",
   "metadata": {},
   "outputs": [],
   "source": [
    "df_information"
   ]
  },
  {
   "cell_type": "markdown",
   "id": "af8884a3-cbbd-41df-a023-c69c402d071d",
   "metadata": {
    "jp-MarkdownHeadingCollapsed": true,
    "tags": []
   },
   "source": [
    "# Pipeline definition"
   ]
  },
  {
   "cell_type": "code",
   "execution_count": null,
   "id": "abb7f6e5-de28-4e7a-972d-9b2eba2c77eb",
   "metadata": {},
   "outputs": [],
   "source": [
    "%run ./FairnessExploration_PipelineDefinition.ipynb"
   ]
  },
  {
   "cell_type": "markdown",
   "id": "1b062ee7-59f0-429d-8fcc-35bc6b285b5a",
   "metadata": {
    "jp-MarkdownHeadingCollapsed": true,
    "tags": []
   },
   "source": [
    "# Pipeline application"
   ]
  },
  {
   "cell_type": "markdown",
   "id": "8399ae5e-9cde-4a4c-89e4-137c887e353a",
   "metadata": {
    "jp-MarkdownHeadingCollapsed": true,
    "tags": []
   },
   "source": [
    "## Variables"
   ]
  },
  {
   "cell_type": "code",
   "execution_count": null,
   "id": "216f67b3-b0d2-4e09-b4c5-dc22d2c9d7aa",
   "metadata": {},
   "outputs": [],
   "source": [
    "# define time ID from which starting we want to use the data\n",
    "# (data before is if used, only used for preprocessing)\n",
    "time_start = 100\n",
    "# define time window used for the rolling mean\n",
    "time_wind = 3\n",
    "# define the classifiers used per sensor node\n",
    "classifier = ThresholdClassification\n",
    "classifier_approx = ThresholdClassificationApproximation"
   ]
  },
  {
   "cell_type": "markdown",
   "id": "e8b5b703-6673-458b-969d-a040e7b5a6b2",
   "metadata": {},
   "source": [
    "We test different combinations of sensors actually used:"
   ]
  },
  {
   "cell_type": "code",
   "execution_count": null,
   "id": "e505392c-36f5-44b4-ad26-0cfed1e6993b",
   "metadata": {},
   "outputs": [],
   "source": [
    "# access node ids\n",
    "node_ids = list(dict.fromkeys(list(df_information.loc[:,'node ID'])))\n",
    "#print('Given nodes: {}'.format(node_ids))\n",
    "\n",
    "# access sensor ids\n",
    "sensor_ids = list(df_leaks.columns[[0,1,3]])\n",
    "print('Given sensors: {}'.format(sensor_ids))\n",
    "\n",
    "# access sensitive features\n",
    "sensitive_features = list(df_leaks.columns[8:11])\n",
    "print('Given sensitive features: {}'.format(sensitive_features))"
   ]
  },
  {
   "cell_type": "markdown",
   "id": "25280567-94ae-43ff-91bc-0013a8b2427f",
   "metadata": {
    "jp-MarkdownHeadingCollapsed": true,
    "tags": []
   },
   "source": [
    "## Visualization - Network"
   ]
  },
  {
   "cell_type": "code",
   "execution_count": null,
   "id": "13b5f6e1-1cc4-487f-aa97-5dce7589a3a1",
   "metadata": {
    "scrolled": true,
    "tags": []
   },
   "outputs": [],
   "source": [
    "wn_hanoi = wntr.network.WaterNetworkModel('../1_FeatureGeneration/models/Hanoi.inp') \n",
    "\n",
    "plot_network_Hanoi(node_ids=node_ids,\n",
    "             sensor_ids=sensor_ids,\n",
    "             df_information=df_information,\n",
    "             wn=wn_hanoi,\n",
    "             name='Hanoi',\n",
    "             save_figs=False)"
   ]
  },
  {
   "cell_type": "markdown",
   "id": "fdbc4fea-0d6f-4fb8-bfae-ec0144059fe9",
   "metadata": {
    "jp-MarkdownHeadingCollapsed": true,
    "tags": []
   },
   "source": [
    "## Preprocessing for Regression"
   ]
  },
  {
   "cell_type": "code",
   "execution_count": null,
   "id": "cf12e6c6-fca0-4edf-ba8b-f7b6b979a118",
   "metadata": {
    "tags": []
   },
   "outputs": [],
   "source": [
    "preprocessor = Preprocessing_RollingMean(time_start=time_start,\n",
    "                                         time_wind=time_wind)\n",
    "X_pre = preprocessor.transform(df_leaks.loc[:,sensor_ids])\n",
    "Y_pre = df_leaks.loc[time_start:,sensor_ids]"
   ]
  },
  {
   "cell_type": "code",
   "execution_count": null,
   "id": "09319e18-c615-40d1-a593-9336ea353ada",
   "metadata": {},
   "outputs": [],
   "source": [
    "#X_pre"
   ]
  },
  {
   "cell_type": "code",
   "execution_count": null,
   "id": "22de6ab7-d0f1-4ed0-9db6-9d7b8755dc26",
   "metadata": {
    "tags": []
   },
   "outputs": [],
   "source": [
    "#Y_pre"
   ]
  },
  {
   "cell_type": "markdown",
   "id": "3ffb23c1-f7a4-46e1-beba-d6a5ec41dc22",
   "metadata": {
    "jp-MarkdownHeadingCollapsed": true,
    "tags": []
   },
   "source": [
    "## Visualization - True Pressure"
   ]
  },
  {
   "cell_type": "code",
   "execution_count": null,
   "id": "203fe8b3-8f45-4df0-a948-ec621cc7f3dc",
   "metadata": {
    "scrolled": true,
    "tags": []
   },
   "outputs": [],
   "source": [
    "plot_data_per_timeindex(df_leaks, # same as using Y_pred\n",
    "                        sensor_ids=sensor_ids,\n",
    "                        start_ids=[128000],\n",
    "                        end_ids=[129000],\n",
    "                        #thresholds={'3':0.5, '10':0.2, '23':1, '25':0.5},\n",
    "                        show_legend=True)"
   ]
  },
  {
   "cell_type": "code",
   "execution_count": null,
   "id": "b02fbe28-edbe-4aa8-89c6-e55bbbba3f43",
   "metadata": {
    "scrolled": true,
    "tags": []
   },
   "outputs": [],
   "source": [
    "plot_data_per_timeindex_and_sensor(dfs={'pressure with no leak':df_noleaks,\n",
    "                                        'pressure with potentially leak':df_leaks}, # same as using Y_pred\n",
    "                                        #'predicted pressure':..},\n",
    "                                   sensor_ids=sensor_ids,\n",
    "                                   start_ids=[128000],\n",
    "                                   end_ids=[129000],\n",
    "                                   #thresholds={'3':0.5, '10':2, '23':0.2, '25':0.5},\n",
    "                                   #threshold_key='pressure with potentially leak',\n",
    "                                   show_legend=True)"
   ]
  },
  {
   "cell_type": "code",
   "execution_count": null,
   "id": "fd27b8d2-2b00-4c04-be84-c1f8b6f93951",
   "metadata": {
    "scrolled": true,
    "tags": []
   },
   "outputs": [],
   "source": [
    "plot_data_per_setting(df_leaks, # same as using Y_pred\n",
    "                      df_information=df_information,\n",
    "                      sensor_ids=sensor_ids,\n",
    "                      node_ids=['2','5','16'],\n",
    "                      diameters=[10],\n",
    "                      setting_ids=None,\n",
    "                      #thresholds={'3':0.5, '10':2, '23':0.2, '25':0.5},\n",
    "                      time_puffer=100,\n",
    "                      show_legend=True,\n",
    "                      zoom_leak=True,\n",
    "                      print_report=False)"
   ]
  },
  {
   "cell_type": "code",
   "execution_count": null,
   "id": "fba1f384-003d-487c-b7af-6cbfe7734761",
   "metadata": {
    "scrolled": true,
    "tags": []
   },
   "outputs": [],
   "source": [
    "plot_data_per_setting_and_sensor(dfs={'pressure with no leak':df_noleaks,\n",
    "                                      'pressure with leak':df_leaks}, # same as using Y_pred\n",
    "                                      #'predicted pressure':...},\n",
    "                                 df_information=df_information,\n",
    "                                 sensor_ids=sensor_ids,\n",
    "                                 node_ids=['2','5','16'],\n",
    "                                 diameters=[10],\n",
    "                                 setting_ids=None,\n",
    "                                 thresholds={'3':0.5, '10':2, '23':0.2, '25':0.5},\n",
    "                                 #threshold_key='pressure with leak',\n",
    "                                 leak_key='pressure with leak',\n",
    "                                 time_puffer=100,\n",
    "                                 show_legend=True,\n",
    "                                 zoom_leak=True,\n",
    "                                 print_report=False)"
   ]
  },
  {
   "cell_type": "markdown",
   "id": "84e96d3c-143b-4fa7-8bc3-bc9985e65a67",
   "metadata": {
    "jp-MarkdownHeadingCollapsed": true,
    "tags": []
   },
   "source": [
    "## Regression - Virtual Sensors\n",
    "\n",
    "In df_information we find that the first leak appears at time ID 1541. Therefore, we use the preprocessed data up to the time ID 1540 to train the virtual sensors on non-leaky data. We use KFold-cross validation to evaluate the virtual sensors, where as a score, we used the mean r2 score and the mean RMSE over all folds *and* all sensors (as we receive a score per sensor)."
   ]
  },
  {
   "cell_type": "code",
   "execution_count": null,
   "id": "fc627e06-13fc-478c-ab73-d907755f1415",
   "metadata": {
    "tags": []
   },
   "outputs": [],
   "source": [
    "time_end_noleaks = df_information.loc[1,'setting start ID'] - 1\n",
    "print('Time ID before first leak starts:', time_end_noleaks)\n",
    "X_reg_train = X_pre.loc[time_start:time_end_noleaks,:]\n",
    "Y_reg_train = Y_pre.loc[time_start:time_end_noleaks,:]"
   ]
  },
  {
   "cell_type": "code",
   "execution_count": null,
   "id": "c1b43c5b-a80a-41fe-b904-5c06b06c9e99",
   "metadata": {},
   "outputs": [],
   "source": [
    "#X_reg_train"
   ]
  },
  {
   "cell_type": "code",
   "execution_count": null,
   "id": "405994a9-3a58-4752-9e04-1b35ee16a79f",
   "metadata": {
    "tags": []
   },
   "outputs": [],
   "source": [
    "#Y_reg_train"
   ]
  },
  {
   "cell_type": "code",
   "execution_count": null,
   "id": "0ff9b03c-9680-412b-a610-ef88da0cb4a7",
   "metadata": {
    "scrolled": true,
    "tags": []
   },
   "outputs": [],
   "source": [
    "# ----- evaluation by cross validation\n",
    "\n",
    "# load dataset\n",
    "X = X_reg_train\n",
    "Y = Y_reg_train\n",
    "\n",
    "# --- perform evaluation by cross validation\n",
    "train_r2s = list()\n",
    "test_r2s = list()\n",
    "train_rmses = list()\n",
    "test_rmses = list()\n",
    "# instantiate cross validation object\n",
    "cv = KFold(n_splits=8, shuffle=False)\n",
    "for train_index, test_index in cv.split(X):\n",
    "    # compute cross validation folds (shift as data indices begin at time_start)\n",
    "    X_train = X.loc[train_index+time_start,:]\n",
    "    Y_train = Y.loc[train_index+time_start,:]\n",
    "    X_test = X.loc[test_index+time_start,:]\n",
    "    Y_test = Y.loc[test_index+time_start,:]\n",
    "    \n",
    "    # --- perform evaluation by training and testing\n",
    "    # instantiate model\n",
    "    regressor = LinearRegression\n",
    "    model = MultiRegression(regressor)\n",
    "    # train model\n",
    "    model.fit(X_train, Y_train)\n",
    "    # test model\n",
    "    train_r2s.append(model.score(X_train, Y_train)[0])\n",
    "    test_r2s.append(model.score(X_test, Y_test)[0])\n",
    "    train_rmses.append(model.score(X_train, Y_train)[1])\n",
    "    test_rmses.append(model.score(X_test, Y_test)[1])\n",
    "\n",
    "# --- access results\n",
    "print('Mean and variance of training r2 scores over all folds: '\\\n",
    "      '{0:0.5f} pm {1:0.5f}'.format(np.array(train_r2s).mean(),\n",
    "                                    np.array(train_r2s).var())) \n",
    "print('Mean and variance of test r2 scores over all folds: '\\\n",
    "      '{0:0.5f} pm {1:0.5f}'.format(np.array(test_r2s).mean(),\n",
    "                                    np.array(test_r2s).var())) \n",
    "print('Train scores:\\n', train_r2s)\n",
    "print('Test scores:\\n', test_r2s)\n",
    "print('Mean and variance of training rmse over all folds: '\\\n",
    "      '{0:0.5f} pm {1:0.5f}'.format(np.array(train_rmses).mean(),\n",
    "                                    np.array(train_rmses).var())) \n",
    "print('Mean and variance of test r2 scores over all folds: '\\\n",
    "      '{0:0.5f} pm {1:0.5f}'.format(np.array(test_rmses).mean(),\n",
    "                                    np.array(test_rmses).var())) \n",
    "print('Train scores:\\n', train_rmses)\n",
    "print('Test scores:\\n', test_rmses)"
   ]
  },
  {
   "cell_type": "code",
   "execution_count": null,
   "id": "2834ea62-95c3-4477-9939-3b2e0b4d369e",
   "metadata": {},
   "outputs": [],
   "source": [
    "# refit regression model on whole non-leaky data\n",
    "regressor = LinearRegression\n",
    "model_reg = MultiRegression(regressor)\n",
    "model_reg.fit(X_reg_train, Y_reg_train)"
   ]
  },
  {
   "cell_type": "markdown",
   "id": "eab802c8-b968-43e7-af07-63c3a917e284",
   "metadata": {
    "jp-MarkdownHeadingCollapsed": true,
    "tags": []
   },
   "source": [
    "## Preprocessing for Classification - Compute Residuals"
   ]
  },
  {
   "cell_type": "code",
   "execution_count": null,
   "id": "d5450ce2-58ad-424d-9251-f688796f59a5",
   "metadata": {},
   "outputs": [],
   "source": [
    "time_start_leaks = df_information.loc[1,'setting start ID']\n",
    "print('Time ID where first leak starts:', time_start_leaks)\n",
    "X_reg_test = X_pre.loc[time_start_leaks:,:]\n",
    "Y_reg_test = Y_pre.loc[time_start_leaks:,:]\n",
    "\n",
    "# apply regression model on whole (not yet seen) data\n",
    "Y_reg_pred =  model_reg.predict(X_reg_test)\n",
    "\n",
    "# compute residuals based on true data and predicted data\n",
    "X_clas = (Y_reg_test - Y_reg_pred).abs()\n",
    "\n",
    "X_sen = df_leaks.loc[time_start_leaks:,sensitive_features]\n",
    "y_clas = df_leaks.loc[time_start_leaks:,['y']]"
   ]
  },
  {
   "cell_type": "code",
   "execution_count": null,
   "id": "ca588806-a1b7-4fcf-8a5e-af4ebb6af722",
   "metadata": {},
   "outputs": [],
   "source": [
    "#X_reg_test"
   ]
  },
  {
   "cell_type": "code",
   "execution_count": null,
   "id": "2693ac2f-7a7f-4dc3-a30b-5ebd95f47551",
   "metadata": {},
   "outputs": [],
   "source": [
    "#Y_reg_test"
   ]
  },
  {
   "cell_type": "code",
   "execution_count": null,
   "id": "878b0f05-affc-41b4-a067-ccce970706e0",
   "metadata": {},
   "outputs": [],
   "source": [
    "#Y_reg_pred"
   ]
  },
  {
   "cell_type": "code",
   "execution_count": null,
   "id": "e6cdb0f2-bbd5-483c-b569-fd72c64f97a0",
   "metadata": {},
   "outputs": [],
   "source": [
    "#X_clas"
   ]
  },
  {
   "cell_type": "code",
   "execution_count": null,
   "id": "5203e612-2c23-4da7-9989-38e8e1b98ebd",
   "metadata": {},
   "outputs": [],
   "source": [
    "#X_sen"
   ]
  },
  {
   "cell_type": "code",
   "execution_count": null,
   "id": "8926e032-71f6-47b7-82fb-1f7e9a79ff06",
   "metadata": {},
   "outputs": [],
   "source": [
    "#y_clas"
   ]
  },
  {
   "cell_type": "markdown",
   "id": "9ef2c81d-75dd-4b41-9fcd-d5c082a505c5",
   "metadata": {
    "jp-MarkdownHeadingCollapsed": true,
    "tags": []
   },
   "source": [
    "## Visualization - True and Predicted Pressure"
   ]
  },
  {
   "cell_type": "code",
   "execution_count": null,
   "id": "ad1990cc-1255-42a6-bd24-862f2573dcf1",
   "metadata": {
    "scrolled": true,
    "tags": []
   },
   "outputs": [],
   "source": [
    "plot_data_per_timeindex_and_sensor(dfs={'pressure with no leak':df_noleaks,\n",
    "                                        'pressure with potentially leak':Y_reg_test, # part of df_leaks\n",
    "                                        'predicted pressure':Y_reg_pred},\n",
    "                                   sensor_ids=sensor_ids,\n",
    "                                   start_ids=[128000],\n",
    "                                   end_ids=[129000],\n",
    "                                   #thresholds={'3':0.5, '10':2, '23':0.2, '25':0.5},\n",
    "                                   #threshold_key='pressure with potentially leak',\n",
    "                                   show_legend=True)"
   ]
  },
  {
   "cell_type": "code",
   "execution_count": null,
   "id": "82529a07-91e2-46ed-8aca-a3c4a450a7b7",
   "metadata": {
    "scrolled": true,
    "tags": []
   },
   "outputs": [],
   "source": [
    "plot_data_per_setting_and_sensor(dfs={#'pressure with no leak':df_noleaks,\n",
    "                                      'pressure with leak':Y_reg_test, # part of df_leaks\n",
    "                                      'predicted pressure':Y_reg_pred},\n",
    "                                 df_information=df_information,\n",
    "                                 sensor_ids=['3', '10'],\n",
    "                                 node_ids=[str(25)],\n",
    "                                 diameters=[15],\n",
    "                                 setting_ids=None,\n",
    "                                 thresholds={'3':0.69, '10':1.80, '25':1.87},\n",
    "                                 threshold_key='pressure with leak',\n",
    "                                 leak_key='pressure with leak',\n",
    "                                 time_puffer=50,\n",
    "                                 show_legend=True,\n",
    "                                 zoom_leak=True,\n",
    "                                 print_report=False)"
   ]
  },
  {
   "cell_type": "code",
   "execution_count": null,
   "id": "50a5e2aa-4a06-4029-b0bb-7677db54b558",
   "metadata": {
    "scrolled": true,
    "tags": []
   },
   "outputs": [],
   "source": [
    "# plot pressure *residuals*\n",
    "plot_data_per_setting(X_clas,\n",
    "                      df_information=df_information,\n",
    "                      sensor_ids=sensor_ids,\n",
    "                      node_ids=[str(x) for x in range(2,33)],\n",
    "                      diameters=[10],\n",
    "                      setting_ids=None,\n",
    "                      #thresholds={'3':0.5, '10':2, '23':0.2, '25':0.5},\n",
    "                      time_puffer=100,\n",
    "                      show_legend=True,\n",
    "                      zoom_leak=True,\n",
    "                      print_report=False)"
   ]
  },
  {
   "cell_type": "markdown",
   "id": "dea139ae-a4b1-4e6a-ba65-02080de8792e",
   "metadata": {
    "jp-MarkdownHeadingCollapsed": true,
    "tags": []
   },
   "source": [
    "## Classification - Leak Detector(s)\n",
    "\n",
    "We now use the virtual sensors to predict the pressure even for times where a leak is active in the WDN. We make use of the residuals $|p_j(t_i) - f_j^r(p_{\\neq j}(t_i))| \\in \\mathbb{R}$ to define a threshold-based classifier that predicts whether a leak is active (1) or not (0) at time $t_i$. "
   ]
  },
  {
   "cell_type": "code",
   "execution_count": null,
   "id": "8d368cbb-5f95-4c23-9eed-1dc882c48749",
   "metadata": {},
   "outputs": [],
   "source": [
    "# create dictionary to store all results\n",
    "# which are visualized at the end\n",
    "results_fairness= dict()\n",
    "results_nofairness = dict()\n",
    "# define which fairness method\n",
    "# should improve which non-fairness method\n",
    "comparisons = {'T-F-PR+F':'T-F-PR',\n",
    "               'ACC+F':'ACC',\n",
    "               'DI+ACC':'ACC'}"
   ]
  },
  {
   "cell_type": "markdown",
   "id": "c94f461c-6a98-46e1-8f28-2332678fc279",
   "metadata": {
    "jp-MarkdownHeadingCollapsed": true,
    "tags": []
   },
   "source": [
    "### Diameter = 5"
   ]
  },
  {
   "cell_type": "code",
   "execution_count": null,
   "id": "281d501f-516a-4df6-8e14-c9a3aff01a9e",
   "metadata": {},
   "outputs": [],
   "source": [
    "# filter the training and test data according to the diameter\n",
    "diameter = 5\n",
    "results = filter_diameter_Hanoi(X_clas, y_clas, X_sen, diameter=diameter, df_information=df_information)\n",
    "X_clas_train, X_clas_test, y_clas_train, y_clas_test, X_sen_train, X_sen_test = results\n",
    "print(X_sen_train.sum())\n",
    "print(X_sen_test.sum())\n",
    "\n",
    "# create dictionary to store all results \n",
    "# which are visualized at the end\n",
    "results_d5 = dict()\n",
    "results_fairness[diameter] = dict()\n",
    "results_nofairness[diameter] = dict()"
   ]
  },
  {
   "cell_type": "markdown",
   "id": "6f7f0881-a9d5-4f2c-a843-01c82cc1f2d5",
   "metadata": {
    "jp-MarkdownHeadingCollapsed": true,
    "tags": []
   },
   "source": [
    "#### Method: Choose hyperparameter"
   ]
  },
  {
   "cell_type": "code",
   "execution_count": null,
   "id": "8fcc6fb6-a568-4dc2-9640-8e7fbae1dc1c",
   "metadata": {
    "scrolled": true,
    "tags": []
   },
   "outputs": [],
   "source": [
    "model_clas = ETC_hyperparameter()\n",
    "model_clas.fit(X_clas_train, factor=0.15, print_coeff=True)\n",
    "acc,eo,di,TPRs = evaluate(model_clas)\n",
    "# define the starting point for all other algorithms\n",
    "start_thresholds = model_clas.thresholds"
   ]
  },
  {
   "cell_type": "code",
   "execution_count": null,
   "id": "784d90ae-ae71-4193-aa87-d7d685d2b989",
   "metadata": {},
   "outputs": [],
   "source": [
    "max_TPR = max(list(TPRs.values()))\n",
    "min_TPR = min(list(TPRs.values()))\n",
    "print('{} & {} & {} & {} & {} & {} & {}'.format(round(acc, 4),\n",
    "                                                round(max_TPR, 4),\n",
    "                                                round(min_TPR, 4),\n",
    "                                                round(di, 4),\n",
    "                                                round(eo, 4),\n",
    "                                                round((1-eo/max_TPR), 4),\n",
    "                                                round((1-di)*max_TPR, 4)))"
   ]
  },
  {
   "cell_type": "code",
   "execution_count": null,
   "id": "45d5954a-135d-4a95-aeab-d3071c66cfcb",
   "metadata": {},
   "outputs": [],
   "source": [
    "results_d5[model_clas] = {'acc':acc,'eo':eo,'di':di,'TPRs':TPRs}\n",
    "results_nofairness[diameter][model_clas.alias] = dict()\n",
    "results_nofairness[diameter][model_clas.alias]['acc'] = acc\n",
    "results_nofairness[diameter][model_clas.alias]['eo'] = eo\n",
    "results_nofairness[diameter][model_clas.alias]['di']= di"
   ]
  },
  {
   "cell_type": "markdown",
   "id": "c991e9dc-1280-4cc2-ac94-d4387eadb483",
   "metadata": {
    "jp-MarkdownHeadingCollapsed": true,
    "tags": []
   },
   "source": [
    "#### Find sigmoid hyperparameter"
   ]
  },
  {
   "cell_type": "code",
   "execution_count": null,
   "id": "03c35c3a-ca69-428d-b3d7-a9963e4319c7",
   "metadata": {},
   "outputs": [],
   "source": [
    "D_clas_train = compute_differences(X_clas_train,\n",
    "                                   y_clas_train,\n",
    "                                   model_clas.thresholds)\n",
    "D_clas_train.describe()"
   ]
  },
  {
   "cell_type": "code",
   "execution_count": null,
   "id": "d72c9a4c-4f72-49c5-a876-90bb596ff64d",
   "metadata": {},
   "outputs": [],
   "source": [
    "find_b_sigmoid(diff = -0.04,\n",
    "               dim = X_clas_train.shape[1],\n",
    "               sum_threshold = 0.8,\n",
    "               b_sigmoid = 100)"
   ]
  },
  {
   "cell_type": "code",
   "execution_count": null,
   "id": "e0bf1b55-d685-4547-aa9b-c7ba16e2ce8b",
   "metadata": {},
   "outputs": [],
   "source": [
    "model_parent = EnsembleThresholdClassification(classifier=ThresholdClassification,\n",
    "                                               classifier_approx=ThresholdClassificationApproximation)\n",
    "model_parent.visualize_predict_approx(X_clas_train,\n",
    "                                      y_clas_train,\n",
    "                                      keys_list=list(model_clas.thresholds.keys()),\n",
    "                                      thresholds_array=np.array(list(model_clas.thresholds.values())),\n",
    "                                      b_sigmoid=100,\n",
    "                                      sum_threshold=0.8,\n",
    "                                      iloc_index_start=1000,\n",
    "                                      iloc_index_end=2000)"
   ]
  },
  {
   "cell_type": "markdown",
   "id": "251a47e9-3a85-4935-b304-1180d86b0573",
   "metadata": {
    "jp-MarkdownHeadingCollapsed": true,
    "tags": []
   },
   "source": [
    "#### Method: Optimize TPR - FPR  (db.)"
   ]
  },
  {
   "cell_type": "code",
   "execution_count": null,
   "id": "1a0ecedb-b6b5-43a7-a0df-6cbc7f0720b9",
   "metadata": {
    "scrolled": true,
    "tags": []
   },
   "outputs": [],
   "source": [
    "b_sigmoid = 100\n",
    "sum_threshold = 0.8\n",
    "model_clas = ETC_optimizeFTPR_db()\n",
    "model_clas.fit(X_clas_train, \n",
    "               X_sen_train,\n",
    "               y_clas_train,\n",
    "               start_thresholds=start_thresholds,\n",
    "               b_sigmoid=b_sigmoid, \n",
    "               sum_threshold=sum_threshold,\n",
    "               print_coeff=True)\n",
    "acc,eo,di,TPRs = evaluate(model_clas)"
   ]
  },
  {
   "cell_type": "code",
   "execution_count": null,
   "id": "44ab7834-7b77-4ddc-a8be-a3e8b52ce07a",
   "metadata": {},
   "outputs": [],
   "source": [
    "results_d5[model_clas] = {'acc':acc,'eo':eo,'di':di,'TPRs':TPRs}\n",
    "results_nofairness[diameter][model_clas.alias] = dict()\n",
    "results_nofairness[diameter][model_clas.alias]['acc'] = acc\n",
    "results_nofairness[diameter][model_clas.alias]['eo'] = eo\n",
    "results_nofairness[diameter][model_clas.alias]['di']= di"
   ]
  },
  {
   "cell_type": "code",
   "execution_count": null,
   "id": "0ef87252-f494-4314-b76a-77d06ef2d630",
   "metadata": {
    "tags": []
   },
   "outputs": [],
   "source": [
    "_, y_pred_approx = model_clas.predict_approx(X_clas_train,\n",
    "                                             b_sigmoid=b_sigmoid, \n",
    "                                             sum_threshold=sum_threshold)\n",
    "\n",
    "sensitive_features = list(X_sen_train.columns)\n",
    "for sensitive_feature in sensitive_features:\n",
    "    x_sen = X_sen_train.loc[:,sensitive_feature]\n",
    "    print('Sensitive feature:', sensitive_feature)\n",
    "    print(Cov(x_sen, y_pred_approx.loc[:,'y']))"
   ]
  },
  {
   "cell_type": "markdown",
   "id": "25de17a6-8612-4492-8149-a32e276e6433",
   "metadata": {
    "jp-MarkdownHeadingCollapsed": true,
    "tags": []
   },
   "source": [
    "#### Method: Optimize TPR - FPR while enhancing fairness (db.)"
   ]
  },
  {
   "cell_type": "code",
   "execution_count": null,
   "id": "14e05a78-1f87-4abc-b5f1-be3bddf84e63",
   "metadata": {
    "scrolled": true,
    "tags": []
   },
   "outputs": [],
   "source": [
    "b_sigmoid = 100\n",
    "sum_threshold = 0.8\n",
    "model_clas = ETC_optimizeFTPR_F_db()\n",
    "model_clas.fit(X_clas_train,\n",
    "               X_sen_train,\n",
    "               y_clas_train,\n",
    "               start_thresholds=start_thresholds,\n",
    "               b_sigmoid=b_sigmoid, \n",
    "               sum_threshold=sum_threshold,\n",
    "               c=0.05, #0.045, 0.05!, 0.06, 0.07, 0.08\n",
    "               mu=0.1, #0.1\n",
    "               print_coeff=True)\n",
    "acc,eo,di,TPRs = evaluate(model_clas)"
   ]
  },
  {
   "cell_type": "code",
   "execution_count": null,
   "id": "0c04e809-3f6d-40f5-b9e0-ad543c16114e",
   "metadata": {
    "scrolled": true,
    "tags": []
   },
   "outputs": [],
   "source": [
    "# --- specify hyperparameters and model class\n",
    "start_hyper = 0.05\n",
    "extra_hypers = [0.045]\n",
    "b_sigmoid = 100\n",
    "sum_threshold = 0.8\n",
    "model_clas = ETC_optimizeFTPR_F_db()\n",
    "\n",
    "# --- define constant for stopping criterium\n",
    "comparison_algo = comparisons[model_clas.alias]\n",
    "di_nofairness = results_nofairness[diameter][comparison_algo]['di']\n",
    "print('Disparate impact of approx. {} '\\\n",
    "      'from {} algorithm is used as a stopping criterium.'.format(round(di_nofairness,5),\n",
    "                                                                        comparison_algo))\n",
    "# ----- test model for different hyperparameters\n",
    "Cs = extra_hypers + [round(start_hyper+i*0.01,2) for i in range(0,40)]\n",
    "print('\\nHyperparameters to test:\\n', Cs)\n",
    "results_fairness[diameter][model_clas.alias] = dict()\n",
    "results_fairness[diameter][model_clas.alias]['ACCs'] = list()\n",
    "results_fairness[diameter][model_clas.alias]['EOs'] = list()\n",
    "results_fairness[diameter][model_clas.alias]['DIs'] = list()\n",
    "results_fairness[diameter][model_clas.alias]['Cs'] = list()\n",
    "for c in Cs:\n",
    "    print('\\nc:', c)\n",
    "    # --- train model for fixed hyperparameters\n",
    "    model_clas = ETC_optimizeFTPR_F_db()\n",
    "    model_clas.fit(X_clas_train,\n",
    "                   X_sen_train,\n",
    "                   y_clas_train,\n",
    "                   start_thresholds=start_thresholds,\n",
    "                   b_sigmoid=b_sigmoid, \n",
    "                   sum_threshold=sum_threshold,\n",
    "                   c=c, #0.045, 0.05!, 0.06, 0.07, 0.08\n",
    "                   mu=0.1, #0.1\n",
    "                   print_coeff=False)\n",
    "    # --- evaluate model for fixed hyperparameters\n",
    "    acc,eo,di,TPRs = evaluate(model_clas)\n",
    "    # --- store evaluation until model is as unfair as comparison model\n",
    "    if di <= di_nofairness:\n",
    "        print('\\nHyperparameter {} and larger were not used'.format(c))\n",
    "        break\n",
    "    results_d5[model_clas] = {'acc':acc,'eo':eo,'di':di,'TPRs':TPRs}\n",
    "    results_fairness[diameter][model_clas.alias]['ACCs'].append(acc)\n",
    "    results_fairness[diameter][model_clas.alias]['EOs'].append(eo)\n",
    "    results_fairness[diameter][model_clas.alias]['DIs'].append(di)\n",
    "    results_fairness[diameter][model_clas.alias]['Cs'].append(c)"
   ]
  },
  {
   "cell_type": "markdown",
   "id": "3878059b-10ad-4f52-9b29-f37b9e3aabe5",
   "metadata": {
    "jp-MarkdownHeadingCollapsed": true,
    "tags": []
   },
   "source": [
    "#### Method: Optimize ACC (db.)"
   ]
  },
  {
   "cell_type": "code",
   "execution_count": null,
   "id": "b3b3dbf6-edf6-4db4-8a1e-a3ca81f8f4b6",
   "metadata": {
    "scrolled": true,
    "tags": []
   },
   "outputs": [],
   "source": [
    "b_sigmoid = 100\n",
    "sum_threshold = 0.8\n",
    "model_clas = ETC_optimizeACC_db()\n",
    "model_clas.fit(X_clas_train,\n",
    "               X_sen_train,\n",
    "               y_clas_train,\n",
    "               start_thresholds=start_thresholds,\n",
    "               b_sigmoid=b_sigmoid, \n",
    "               sum_threshold=sum_threshold,\n",
    "               print_coeff=True)\n",
    "acc,eo,di,TPRs = evaluate(model_clas)"
   ]
  },
  {
   "cell_type": "code",
   "execution_count": null,
   "id": "7e0e6bf3-9955-4baa-8021-63067a08a9eb",
   "metadata": {},
   "outputs": [],
   "source": [
    "results_d5[model_clas] = {'acc':acc,'eo':eo,'di':di,'TPRs':TPRs}\n",
    "results_nofairness[diameter][model_clas.alias] = dict()\n",
    "results_nofairness[diameter][model_clas.alias]['acc'] = acc\n",
    "results_nofairness[diameter][model_clas.alias]['eo'] = eo\n",
    "results_nofairness[diameter][model_clas.alias]['di']= di"
   ]
  },
  {
   "cell_type": "code",
   "execution_count": null,
   "id": "b37a6f1b-bc1a-428f-b447-15182be3cc60",
   "metadata": {},
   "outputs": [],
   "source": [
    "_,_,_,_,_,acc_best,_ = model_clas.score(X_clas_train, \n",
    "                                        y_clas_train,\n",
    "                                        print_all_scores=False)\n",
    "acc_best"
   ]
  },
  {
   "cell_type": "code",
   "execution_count": null,
   "id": "4171228c-445e-457d-8ffa-525d4e49988e",
   "metadata": {
    "tags": []
   },
   "outputs": [],
   "source": [
    "_, y_pred_approx = model_clas.predict_approx(X_clas_train,\n",
    "                                             b_sigmoid=b_sigmoid, \n",
    "                                             sum_threshold=sum_threshold)\n",
    "\n",
    "sensitive_features = list(X_sen_train.columns)\n",
    "for sensitive_feature in sensitive_features:\n",
    "    x_sen = X_sen_train.loc[:,sensitive_feature]\n",
    "    print('Sensitive feature:', sensitive_feature)\n",
    "    print(Cov(x_sen, y_pred_approx.loc[:,'y']))"
   ]
  },
  {
   "cell_type": "markdown",
   "id": "64860e63-74ae-4724-a1f7-92a405dd3007",
   "metadata": {
    "jp-MarkdownHeadingCollapsed": true,
    "tags": []
   },
   "source": [
    "#### Method: Optimize ACC while enhancing fairness (db.)"
   ]
  },
  {
   "cell_type": "code",
   "execution_count": null,
   "id": "ab376abc-d740-44cc-a1a4-2ed821577c5d",
   "metadata": {
    "scrolled": true,
    "tags": []
   },
   "outputs": [],
   "source": [
    "b_sigmoid = 100\n",
    "sum_threshold = 0.8\n",
    "model_clas = ETC_optimizeACC_F_db()\n",
    "model_clas.fit(X_clas_train,\n",
    "               X_sen_train,\n",
    "               y_clas_train,\n",
    "               start_thresholds=start_thresholds,\n",
    "               b_sigmoid=b_sigmoid, \n",
    "               sum_threshold=sum_threshold,\n",
    "               c=0.07, #0.05, 0.055, 0.06, 0.07!, 0.08, ..., 0.17\n",
    "               mu=0.15, #0.15\n",
    "               print_coeff=True)\n",
    "acc,eo,di,TPRs = evaluate(model_clas)"
   ]
  },
  {
   "cell_type": "code",
   "execution_count": null,
   "id": "f6074d61-3437-443c-bd26-cd56af3ebeac",
   "metadata": {
    "scrolled": true,
    "tags": []
   },
   "outputs": [],
   "source": [
    "# --- specify hyperparameters and model class\n",
    "start_hyper = 0.06\n",
    "extra_hypers = [0.05, 0.055]\n",
    "b_sigmoid = 100\n",
    "sum_threshold = 0.8\n",
    "model_clas = ETC_optimizeACC_F_db()\n",
    "\n",
    "# --- define constant for stopping criterium\n",
    "comparison_algo = comparisons[model_clas.alias]\n",
    "di_nofairness = results_nofairness[diameter][comparison_algo]['di']\n",
    "print('disparate impact of approx. {} '\\\n",
    "      'from {} algorithm is used as a stopping criterium.'.format(round(di_nofairness,5),\n",
    "                                                                        comparison_algo))\n",
    "# ----- test model for different hyperparameters\n",
    "Cs = extra_hypers + [round(start_hyper+i*0.01,2) for i in range(0,40)]\n",
    "print('\\nHyperparameters to test:\\n', Cs)\n",
    "results_fairness[diameter][model_clas.alias] = dict()\n",
    "results_fairness[diameter][model_clas.alias]['ACCs'] = list()\n",
    "results_fairness[diameter][model_clas.alias]['EOs'] = list()\n",
    "results_fairness[diameter][model_clas.alias]['DIs'] = list()\n",
    "results_fairness[diameter][model_clas.alias]['Cs'] = list()\n",
    "for c in Cs:\n",
    "    print('\\nc:', c)\n",
    "    # --- train model for fixed hyperparameters\n",
    "    model_clas = ETC_optimizeACC_F_db()\n",
    "    model_clas.fit(X_clas_train,\n",
    "                   X_sen_train,\n",
    "                   y_clas_train,\n",
    "                   start_thresholds=start_thresholds,\n",
    "                   b_sigmoid=b_sigmoid, \n",
    "                   sum_threshold=sum_threshold,\n",
    "                   c=c, #0.05, 0.055, 0.06, 0.07!, 0.08, ..., 0.17\n",
    "                   mu=0.15, #0.15\n",
    "                   print_coeff=False)\n",
    "    # --- evaluate model for fixed hyperparameters\n",
    "    acc,eo,di,TPRs = evaluate(model_clas)\n",
    "    # --- store evaluation until model is as unfair as comparison model\n",
    "    if di <= di_nofairness:\n",
    "        print('\\nHyperparameter {} and larger were not used'.format(c))\n",
    "        break\n",
    "    results_d5[model_clas] = {'acc':acc,'eo':eo,'di':di,'TPRs':TPRs}\n",
    "    results_fairness[diameter][model_clas.alias]['ACCs'].append(acc)\n",
    "    results_fairness[diameter][model_clas.alias]['EOs'].append(eo)\n",
    "    results_fairness[diameter][model_clas.alias]['DIs'].append(di)\n",
    "    results_fairness[diameter][model_clas.alias]['Cs'].append(c)"
   ]
  },
  {
   "cell_type": "markdown",
   "id": "a2227ace-6157-4a2f-8f56-20a835cdfe41",
   "metadata": {
    "jp-MarkdownHeadingCollapsed": true,
    "tags": []
   },
   "source": [
    "#### Method: Optimize DI (ndb.)"
   ]
  },
  {
   "cell_type": "code",
   "execution_count": null,
   "id": "d9f8917e-2c61-43d1-9830-695a870143d6",
   "metadata": {},
   "outputs": [],
   "source": [
    "acc_best"
   ]
  },
  {
   "cell_type": "code",
   "execution_count": null,
   "id": "84a2a3eb-f65f-4566-8c29-eff1c09638a1",
   "metadata": {
    "scrolled": true,
    "tags": []
   },
   "outputs": [],
   "source": [
    "model_clas = ETC_optimizeDI_ndb()\n",
    "model_clas.fit(X_clas_train,\n",
    "               X_sen_train,\n",
    "               y_clas_train,\n",
    "               start_thresholds=start_thresholds,\n",
    "               mu=0.05, #0.05\n",
    "               lamb=0.01, #0.01, 0.02, 0.03, 0.04!, 0.05, ..., 0.2\n",
    "               acc_best=acc_best,\n",
    "               print_coeff=True)\n",
    "acc,eo,di,TPRs = evaluate(model_clas)"
   ]
  },
  {
   "cell_type": "code",
   "execution_count": null,
   "id": "6246b62d-ffe0-4e38-bf59-f41de14eece9",
   "metadata": {
    "scrolled": true,
    "tags": []
   },
   "outputs": [],
   "source": [
    "# --- specify hyperparameters and model class\n",
    "start_hyper = 0.2\n",
    "model_clas = ETC_optimizeDI_ndb()\n",
    "\n",
    "# --- define constant for stopping criterium\n",
    "comparison_algo = comparisons[model_clas.alias]\n",
    "di_nofairness = results_nofairness[diameter][comparison_algo]['di']\n",
    "print('disparate impact of approx. {} '\\\n",
    "      'from {} algorithm is used as a stopping criterium.'.format(round(di_nofairness,5),\n",
    "                                                                        comparison_algo))\n",
    "\n",
    "# --- test model for different hyperparameters\n",
    "Cs = [round(start_hyper-i*0.01,2) for i in range(0,40) if round(start_hyper-i*0.01,2)>0]\n",
    "print('\\nHyperparameters to test:\\n', Cs)\n",
    "results_fairness[diameter][model_clas.alias] = dict()\n",
    "results_fairness[diameter][model_clas.alias]['ACCs'] = list()\n",
    "results_fairness[diameter][model_clas.alias]['EOs'] = list()\n",
    "results_fairness[diameter][model_clas.alias]['DIs'] = list()\n",
    "results_fairness[diameter][model_clas.alias]['Lambdas'] = list()\n",
    "for lamb in Cs:\n",
    "    print('\\nlambda:', lamb)\n",
    "    # --- train model for fixed hyperparameters\n",
    "    model_clas = ETC_optimizeDI_ndb()\n",
    "    model_clas.fit(X_clas_train,\n",
    "                   X_sen_train,\n",
    "                   y_clas_train,\n",
    "                   start_thresholds=start_thresholds,\n",
    "                   mu=0.05, #0.05\n",
    "                   lamb=lamb, #0.01, 0.02, 0.03, 0.04!, 0.05, ..., 0.2\n",
    "                   acc_best=acc_best,\n",
    "                   print_coeff=False)\n",
    "    # --- evaluate model for fixed hyperparameters\n",
    "    acc,eo,di,TPRs = evaluate(model_clas)\n",
    "    # --- store evaluation until model is as unfair as comparison model\n",
    "    if di <= di_nofairness:\n",
    "        print('\\nHyperparameter {} and larger were not used'.format(lamb))\n",
    "        break\n",
    "    results_d5[model_clas] = {'acc':acc,'eo':eo,'di':di,'TPRs':TPRs}\n",
    "    results_fairness[diameter][model_clas.alias]['ACCs'].append(acc)\n",
    "    results_fairness[diameter][model_clas.alias]['EOs'].append(eo)\n",
    "    results_fairness[diameter][model_clas.alias]['DIs'].append(di)\n",
    "    results_fairness[diameter][model_clas.alias]['Lambdas'].append(lamb)"
   ]
  },
  {
   "cell_type": "markdown",
   "id": "9d0df703-ac2d-4a24-af48-aebfbf894baf",
   "metadata": {
    "jp-MarkdownHeadingCollapsed": true,
    "tags": []
   },
   "source": [
    "### Diameter = 10"
   ]
  },
  {
   "cell_type": "code",
   "execution_count": null,
   "id": "5886c5c8-fe58-4892-a275-fd475c173aae",
   "metadata": {},
   "outputs": [],
   "source": [
    "# filter the training and test data according to the diameter\n",
    "diameter = 10\n",
    "results = filter_diameter_Hanoi(X_clas, y_clas, X_sen, diameter=diameter, df_information=df_information)\n",
    "X_clas_train, X_clas_test, y_clas_train, y_clas_test, X_sen_train, X_sen_test = results\n",
    "print(X_sen_train.sum())\n",
    "print(X_sen_test.sum())\n",
    "\n",
    "# create dictionary to store all results \n",
    "# which are visualized at the end\n",
    "results_d10 = dict()\n",
    "results_fairness[diameter] = dict()\n",
    "results_nofairness[diameter] = dict()"
   ]
  },
  {
   "cell_type": "markdown",
   "id": "60c830f0-6003-4cd5-8079-8be700f2462e",
   "metadata": {
    "jp-MarkdownHeadingCollapsed": true,
    "tags": []
   },
   "source": [
    "#### Method: Choose hyperparameter"
   ]
  },
  {
   "cell_type": "code",
   "execution_count": null,
   "id": "ddd04bc2-0892-484a-a216-2518ed711d70",
   "metadata": {
    "scrolled": true,
    "tags": []
   },
   "outputs": [],
   "source": [
    "model_clas = ETC_hyperparameter()\n",
    "model_clas.fit(X_clas_train, factor=0.2, print_coeff=True)\n",
    "acc,eo,di,TPRs = evaluate(model_clas)\n",
    "# define the starting point for all other algorithms\n",
    "start_thresholds = model_clas.thresholds"
   ]
  },
  {
   "cell_type": "code",
   "execution_count": null,
   "id": "c070d658-94f3-42f6-9c6c-be323bdfcec3",
   "metadata": {},
   "outputs": [],
   "source": [
    "max_TPR = max(list(TPRs.values()))\n",
    "min_TPR = min(list(TPRs.values()))\n",
    "print('{} & {} & {} & {} & {} & {} & {}'.format(round(acc, 4),\n",
    "                                                round(max_TPR, 4),\n",
    "                                                round(min_TPR, 4),\n",
    "                                                round(di, 4),\n",
    "                                                round(eo, 4),\n",
    "                                                round((1-eo/max_TPR), 4),\n",
    "                                                round((1-di)*max_TPR, 4)))"
   ]
  },
  {
   "cell_type": "code",
   "execution_count": null,
   "id": "a3561d3e-c8e8-478b-8858-d21d2b340ead",
   "metadata": {},
   "outputs": [],
   "source": [
    "results_d10[model_clas] = {'acc':acc,'eo':eo,'di':di,'TPRs':TPRs}\n",
    "results_nofairness[diameter][model_clas.alias] = dict()\n",
    "results_nofairness[diameter][model_clas.alias]['acc'] = acc\n",
    "results_nofairness[diameter][model_clas.alias]['eo'] = eo\n",
    "results_nofairness[diameter][model_clas.alias]['di']= di"
   ]
  },
  {
   "cell_type": "markdown",
   "id": "12ce7662-32e9-4b5a-93d4-bf6671cadda2",
   "metadata": {
    "jp-MarkdownHeadingCollapsed": true,
    "tags": []
   },
   "source": [
    "#### Find sigmoid hyperparameter"
   ]
  },
  {
   "cell_type": "code",
   "execution_count": null,
   "id": "808fae94-ce3b-4ff9-b4d4-9384f7986e5b",
   "metadata": {},
   "outputs": [],
   "source": [
    "D_clas_train = compute_differences(X_clas_train,\n",
    "                                   y_clas_train,\n",
    "                                   model_clas.thresholds)\n",
    "D_clas_train.describe()"
   ]
  },
  {
   "cell_type": "code",
   "execution_count": null,
   "id": "95f02e1a-b5cf-4efb-b656-443aec9ecfb8",
   "metadata": {},
   "outputs": [],
   "source": [
    "find_b_sigmoid(diff = -0.19,\n",
    "               dim = X_clas_train.shape[1],\n",
    "               sum_threshold = 0.8,\n",
    "               b_sigmoid = 100)"
   ]
  },
  {
   "cell_type": "code",
   "execution_count": null,
   "id": "34aadb3f-97e0-4674-bdd3-60e6f8c9be7d",
   "metadata": {
    "scrolled": true,
    "tags": []
   },
   "outputs": [],
   "source": [
    "model_parent = EnsembleThresholdClassification(classifier=ThresholdClassification,\n",
    "                                               classifier_approx=ThresholdClassificationApproximation)\n",
    "model_parent.visualize_predict_approx(X_clas_train,\n",
    "                                      y_clas_train,\n",
    "                                      keys_list=list(model_clas.thresholds.keys()),\n",
    "                                      thresholds_array=np.array(list(model_clas.thresholds.values())),\n",
    "                                      b_sigmoid=100,\n",
    "                                      sum_threshold=0.8,\n",
    "                                      iloc_index_start=0,\n",
    "                                      iloc_index_end=5000)"
   ]
  },
  {
   "cell_type": "markdown",
   "id": "0f789ed3-c391-4639-b04e-0592db95c9e0",
   "metadata": {
    "jp-MarkdownHeadingCollapsed": true,
    "tags": []
   },
   "source": [
    "#### Method: Optimize TPR - FPR (db.)"
   ]
  },
  {
   "cell_type": "code",
   "execution_count": null,
   "id": "942fed5c-f143-47c8-a5d6-c9160af747e9",
   "metadata": {
    "scrolled": true,
    "tags": []
   },
   "outputs": [],
   "source": [
    "b_sigmoid = 100\n",
    "sum_threshold = 0.8\n",
    "model_clas = ETC_optimizeFTPR_db()\n",
    "model_clas.fit(X_clas_train, \n",
    "               X_sen_train,\n",
    "               y_clas_train,\n",
    "               start_thresholds=start_thresholds,\n",
    "               b_sigmoid=b_sigmoid, \n",
    "               sum_threshold=sum_threshold,\n",
    "               print_coeff=True)\n",
    "acc,eo,di,TPRs = evaluate(model_clas)"
   ]
  },
  {
   "cell_type": "code",
   "execution_count": null,
   "id": "1160a259-0a6a-4739-8f63-5fb873e13476",
   "metadata": {},
   "outputs": [],
   "source": [
    "results_d10[model_clas] = {'acc':acc,'eo':eo,'di':di,'TPRs':TPRs}\n",
    "results_nofairness[diameter][model_clas.alias] = dict()\n",
    "results_nofairness[diameter][model_clas.alias]['acc'] = acc\n",
    "results_nofairness[diameter][model_clas.alias]['eo'] = eo\n",
    "results_nofairness[diameter][model_clas.alias]['di']= di"
   ]
  },
  {
   "cell_type": "code",
   "execution_count": null,
   "id": "6947bb0b-b263-4061-a95f-85362e27fb68",
   "metadata": {
    "tags": []
   },
   "outputs": [],
   "source": [
    "_, y_pred_approx = model_clas.predict_approx(X_clas_train,\n",
    "                                             b_sigmoid=b_sigmoid, \n",
    "                                             sum_threshold=sum_threshold)\n",
    "\n",
    "sensitive_features = list(X_sen_train.columns)\n",
    "for sensitive_feature in sensitive_features:\n",
    "    x_sen = X_sen_train.loc[:,sensitive_feature]\n",
    "    print('Sensitive feature:', sensitive_feature)\n",
    "    print(Cov(x_sen, y_pred_approx.loc[:,'y']))"
   ]
  },
  {
   "cell_type": "markdown",
   "id": "e66617c0-a7d8-4bf2-b03c-a25136ad1e73",
   "metadata": {
    "jp-MarkdownHeadingCollapsed": true,
    "tags": []
   },
   "source": [
    "#### Method: Optimize TPR - FPR while enhancing fairness (db.)"
   ]
  },
  {
   "cell_type": "code",
   "execution_count": null,
   "id": "fc30cd46-03c6-467b-a659-44cf56990843",
   "metadata": {
    "scrolled": true,
    "tags": []
   },
   "outputs": [],
   "source": [
    "b_sigmoid = 100\n",
    "sum_threshold = 0.8\n",
    "model_clas = ETC_optimizeFTPR_F_db()\n",
    "model_clas.fit(X_clas_train,\n",
    "               X_sen_train,\n",
    "               y_clas_train,\n",
    "               start_thresholds=start_thresholds,\n",
    "               b_sigmoid=b_sigmoid, \n",
    "               sum_threshold=sum_threshold,\n",
    "               c=0.11, #0.07, 0.08, 0.09, 0.1, 0.11!, 0.12 ..., 0.22\n",
    "               mu=0.2, #0.2\n",
    "               print_coeff=True)\n",
    "acc,eo,di,TPRs = evaluate(model_clas)"
   ]
  },
  {
   "cell_type": "code",
   "execution_count": null,
   "id": "df2bde00-bd5d-4584-8832-9b08966847cd",
   "metadata": {
    "scrolled": true,
    "tags": []
   },
   "outputs": [],
   "source": [
    "# --- specify hyperparameters and model class\n",
    "start_hyper = 0.07\n",
    "extra_hypers = []\n",
    "b_sigmoid = 100\n",
    "sum_threshold = 0.8\n",
    "model_clas = ETC_optimizeFTPR_F_db()\n",
    "\n",
    "# --- define constant for stopping criterium\n",
    "comparison_algo = comparisons[model_clas.alias]\n",
    "di_nofairness = results_nofairness[diameter][comparison_algo]['di']\n",
    "print('disparate impact of approx. {} '\\\n",
    "      'from {} algorithm is used as a stopping criterium.'.format(round(di_nofairness,5),\n",
    "                                                                        comparison_algo))\n",
    "\n",
    "# ----- test model for different hyperparameters\n",
    "Cs = extra_hypers + [round(start_hyper+i*0.01,2) for i in range(0,40)]\n",
    "print('\\nHyperparameters to test:\\n', Cs)\n",
    "results_fairness[diameter][model_clas.alias] = dict()\n",
    "results_fairness[diameter][model_clas.alias]['ACCs'] = list()\n",
    "results_fairness[diameter][model_clas.alias]['EOs'] = list()\n",
    "results_fairness[diameter][model_clas.alias]['DIs'] = list()\n",
    "results_fairness[diameter][model_clas.alias]['Cs'] = list()\n",
    "for c in Cs:\n",
    "    print('\\nc:', c)\n",
    "    # --- train model for fixed hyperparameters\n",
    "    model_clas = ETC_optimizeFTPR_F_db()\n",
    "    model_clas.fit(X_clas_train,\n",
    "                   X_sen_train,\n",
    "                   y_clas_train,\n",
    "                   start_thresholds=start_thresholds,\n",
    "                   b_sigmoid=b_sigmoid, \n",
    "                   sum_threshold=sum_threshold,\n",
    "                   c=c, #0.07, 0.08, 0.09, 0.1, 0.11!, 0.12 ..., 0.22\n",
    "                   mu=0.2, #0.2\n",
    "                   print_coeff=False)\n",
    "    # --- evaluate model for fixed hyperparameters\n",
    "    acc,eo,di,TPRs = evaluate(model_clas)\n",
    "    # --- store evaluation until model is as unfair as comparison model\n",
    "    if di <= di_nofairness:\n",
    "        print('\\nHyperparameter {} and larger were not used'.format(c))\n",
    "        break\n",
    "    results_d10[model_clas] = {'acc':acc,'eo':eo,'di':di,'TPRs':TPRs}\n",
    "    results_fairness[diameter][model_clas.alias]['ACCs'].append(acc)\n",
    "    results_fairness[diameter][model_clas.alias]['EOs'].append(eo)\n",
    "    results_fairness[diameter][model_clas.alias]['DIs'].append(di)\n",
    "    results_fairness[diameter][model_clas.alias]['Cs'].append(c)"
   ]
  },
  {
   "cell_type": "markdown",
   "id": "198b2764-c3e4-479d-bb98-fb20f1a76425",
   "metadata": {
    "jp-MarkdownHeadingCollapsed": true,
    "tags": []
   },
   "source": [
    "#### Method: Optimize ACC (db.)"
   ]
  },
  {
   "cell_type": "code",
   "execution_count": null,
   "id": "6f539aeb-b2d9-4ee0-9bed-74b8c3bff387",
   "metadata": {
    "scrolled": true,
    "tags": []
   },
   "outputs": [],
   "source": [
    "b_sigmoid = 100\n",
    "sum_threshold = 0.8\n",
    "model_clas = ETC_optimizeACC_db()\n",
    "model_clas.fit(X_clas_train,\n",
    "               X_sen_train,\n",
    "               y_clas_train,\n",
    "               start_thresholds=start_thresholds,\n",
    "               b_sigmoid=b_sigmoid, \n",
    "               sum_threshold=sum_threshold,\n",
    "               print_coeff=True)\n",
    "acc,eo,di,TPRs = evaluate(model_clas)"
   ]
  },
  {
   "cell_type": "code",
   "execution_count": null,
   "id": "20c61369-0ba1-4b78-9157-d8d09b2dbcf1",
   "metadata": {},
   "outputs": [],
   "source": [
    "results_d10[model_clas] = {'acc':acc,'eo':eo,'di':di,'TPRs':TPRs}\n",
    "results_nofairness[diameter][model_clas.alias] = dict()\n",
    "results_nofairness[diameter][model_clas.alias]['acc'] = acc\n",
    "results_nofairness[diameter][model_clas.alias]['eo'] = eo\n",
    "results_nofairness[diameter][model_clas.alias]['di']= di"
   ]
  },
  {
   "cell_type": "code",
   "execution_count": null,
   "id": "ceb7a1c2-fa5c-4fd8-9ff7-679f1b5e0d8c",
   "metadata": {},
   "outputs": [],
   "source": [
    "_,_,_,_,_,acc_best,_ = model_clas.score(X_clas_train, \n",
    "                                        y_clas_train,\n",
    "                                        print_all_scores=False)\n",
    "acc_best"
   ]
  },
  {
   "cell_type": "code",
   "execution_count": null,
   "id": "7c1b49d8-d8a3-48eb-a54f-bc88cdc76970",
   "metadata": {
    "tags": []
   },
   "outputs": [],
   "source": [
    "_, y_pred_approx = model_clas.predict_approx(X_clas_train,\n",
    "                                             b_sigmoid=b_sigmoid, \n",
    "                                             sum_threshold=sum_threshold)\n",
    "\n",
    "sensitive_features = list(X_sen_train.columns)\n",
    "for sensitive_feature in sensitive_features:\n",
    "    x_sen = X_sen_train.loc[:,sensitive_feature]\n",
    "    print('Sensitive feature:', sensitive_feature)\n",
    "    print(Cov(x_sen, y_pred_approx.loc[:,'y']))"
   ]
  },
  {
   "cell_type": "markdown",
   "id": "e9a673ec-d27a-4f28-92b8-50885a550705",
   "metadata": {
    "jp-MarkdownHeadingCollapsed": true,
    "tags": []
   },
   "source": [
    "#### Method: Optimize ACC while enhancing fairness (db.)"
   ]
  },
  {
   "cell_type": "code",
   "execution_count": null,
   "id": "3ebdbedf-9f7b-4c01-92a3-4f989c3d57ba",
   "metadata": {
    "scrolled": true,
    "tags": []
   },
   "outputs": [],
   "source": [
    "b_sigmoid = 100\n",
    "sum_threshold = 0.8\n",
    "model_clas = ETC_optimizeACC_F_db()\n",
    "model_clas.fit(X_clas_train,\n",
    "               X_sen_train,\n",
    "               y_clas_train,\n",
    "               start_thresholds=start_thresholds,\n",
    "               b_sigmoid=b_sigmoid, \n",
    "               sum_threshold=sum_threshold,\n",
    "               c=0.09, #0.065, 0.07, 0.08, 0.09!, 0.1, ..., 0.14\n",
    "               mu=0.05, #0.05!, 0.1\n",
    "               print_coeff=True)\n",
    "acc,eo,di,TPRs = evaluate(model_clas)"
   ]
  },
  {
   "cell_type": "code",
   "execution_count": null,
   "id": "854d4c76-c26e-4e5b-801b-c99583f752fc",
   "metadata": {
    "scrolled": true,
    "tags": []
   },
   "outputs": [],
   "source": [
    "# --- specify hyperparameters and model class\n",
    "start_hyper = 0.07\n",
    "extra_hypers = [0.065]\n",
    "b_sigmoid=100\n",
    "sum_threshold=0.8\n",
    "model_clas = ETC_optimizeACC_F_db()\n",
    "\n",
    "# --- define constant for stopping criterium\n",
    "comparison_algo = comparisons[model_clas.alias]\n",
    "di_nofairness = results_nofairness[diameter][comparison_algo]['di']\n",
    "print('disparate impact of approx. {} '\\\n",
    "      'from {} algorithm is used as a stopping criterium.'.format(round(di_nofairness,5),\n",
    "                                                                        comparison_algo))\n",
    "# ----- test model for different hyperparameters\n",
    "Cs = extra_hypers + [round(start_hyper+i*0.01,2) for i in range(0,40)]\n",
    "print('\\nHyperparameters to test:\\n', Cs)\n",
    "results_fairness[diameter][model_clas.alias] = dict()\n",
    "results_fairness[diameter][model_clas.alias]['ACCs'] = list()\n",
    "results_fairness[diameter][model_clas.alias]['EOs'] = list()\n",
    "results_fairness[diameter][model_clas.alias]['DIs'] = list()\n",
    "results_fairness[diameter][model_clas.alias]['Cs'] = list()\n",
    "for c in Cs:\n",
    "    print('\\nc:', c)\n",
    "    # --- train model for fixed hyperparameters\n",
    "    model_clas = ETC_optimizeACC_F_db()\n",
    "    model_clas.fit(X_clas_train,\n",
    "                   X_sen_train,\n",
    "                   y_clas_train,\n",
    "                   start_thresholds=start_thresholds,\n",
    "                   b_sigmoid=b_sigmoid, \n",
    "                   sum_threshold=sum_threshold,\n",
    "                   c=c, #0.065, 0.07, 0.08, 0.09!, 0.1, ..., 0.14\n",
    "                   mu=0.05, #0.05!, 0.1\n",
    "                   print_coeff=False)\n",
    "    # --- evaluate model for fixed hyperparameters\n",
    "    acc,eo,di,TPRs = evaluate(model_clas)\n",
    "    # --- store evaluation until model is as unfair as comparison model\n",
    "    if di <= di_nofairness:\n",
    "        print('\\nHyperparameter {} and larger were not used'.format(c))\n",
    "        break\n",
    "    results_d10[model_clas] = {'acc':acc,'eo':eo,'di':di,'TPRs':TPRs}\n",
    "    results_fairness[diameter][model_clas.alias]['ACCs'].append(acc)\n",
    "    results_fairness[diameter][model_clas.alias]['EOs'].append(eo)\n",
    "    results_fairness[diameter][model_clas.alias]['DIs'].append(di)\n",
    "    results_fairness[diameter][model_clas.alias]['Cs'].append(c)"
   ]
  },
  {
   "cell_type": "markdown",
   "id": "e227f30c-6ab0-4e8b-90b3-62191b6115df",
   "metadata": {
    "jp-MarkdownHeadingCollapsed": true,
    "tags": []
   },
   "source": [
    "#### Method: Optimize DI (ndb.)"
   ]
  },
  {
   "cell_type": "code",
   "execution_count": null,
   "id": "05389c7e-83f0-4ddf-a2db-d563bed55548",
   "metadata": {},
   "outputs": [],
   "source": [
    "acc_best"
   ]
  },
  {
   "cell_type": "code",
   "execution_count": null,
   "id": "58d04769-56bd-4924-9f9c-1c2c948b172f",
   "metadata": {
    "scrolled": true,
    "tags": []
   },
   "outputs": [],
   "source": [
    "model_clas = ETC_optimizeDI_ndb()\n",
    "model_clas.fit(X_clas_train,\n",
    "               X_sen_train,\n",
    "               y_clas_train,\n",
    "               start_thresholds=start_thresholds,\n",
    "               mu=0.025, #0.025\n",
    "               lamb=0.03, #0.03!, 0.04, ..., 0.45\n",
    "               acc_best=acc_best,\n",
    "               print_coeff=True)\n",
    "acc,eo,di,TPRs = evaluate(model_clas)"
   ]
  },
  {
   "cell_type": "code",
   "execution_count": null,
   "id": "1edc63e5-dbbd-4a33-b1d0-7151d893a4fe",
   "metadata": {
    "scrolled": true,
    "tags": []
   },
   "outputs": [],
   "source": [
    "# --- specify hyperparameters and model class\n",
    "start_hyper = 0.45\n",
    "end_hyper = 0.03\n",
    "model_clas = ETC_optimizeDI_ndb()\n",
    "\n",
    "# --- define constant for stopping criterium\n",
    "comparison_algo = comparisons[model_clas.alias]\n",
    "di_nofairness = results_nofairness[diameter][comparison_algo]['di']\n",
    "print('disparate impact of approx. {} '\\\n",
    "      'from {} algorithm is used as a stopping criterium.'.format(round(di_nofairness,5),\n",
    "                                                                        comparison_algo))\n",
    "\n",
    "# --- test model for different hyperparameters\n",
    "Cs = [round(start_hyper-i*0.01,2) for i in range(0,50) if round(start_hyper-i*0.01,2)>=end_hyper]\n",
    "print('\\nHyperparameters to test:\\n', Cs)\n",
    "results_fairness[diameter][model_clas.alias] = dict()\n",
    "results_fairness[diameter][model_clas.alias]['ACCs'] = list()\n",
    "results_fairness[diameter][model_clas.alias]['EOs'] = list()\n",
    "results_fairness[diameter][model_clas.alias]['DIs'] = list()\n",
    "results_fairness[diameter][model_clas.alias]['Lambdas'] = list()\n",
    "for lamb in Cs:\n",
    "    print('\\nlambda:', lamb)\n",
    "    # --- train model for fixed hyperparameters\n",
    "    model_clas = ETC_optimizeDI_ndb()\n",
    "    model_clas.fit(X_clas_train,\n",
    "                   X_sen_train,\n",
    "                   y_clas_train,\n",
    "                   start_thresholds=start_thresholds,\n",
    "                   mu=0.025, #0.025\n",
    "                   lamb=lamb, #0.03!, 0.04, ..., 0.45\n",
    "                   acc_best=acc_best,\n",
    "                   print_coeff=False)\n",
    "    # --- evaluate model for fixed hyperparameters\n",
    "    acc,eo,di,TPRs = evaluate(model_clas)\n",
    "    # --- store evaluation until model is as unfair as comparison model\n",
    "    if di <= di_nofairness:\n",
    "        print('\\nHyperparameter {} and larger were not used'.format(c))\n",
    "        break\n",
    "    results_d10[model_clas] = {'acc':acc,'eo':eo,'di':di,'TPRs':TPRs}\n",
    "    results_fairness[diameter][model_clas.alias]['ACCs'].append(acc)\n",
    "    results_fairness[diameter][model_clas.alias]['EOs'].append(eo)\n",
    "    results_fairness[diameter][model_clas.alias]['DIs'].append(di)\n",
    "    results_fairness[diameter][model_clas.alias]['Lambdas'].append(lamb)"
   ]
  },
  {
   "cell_type": "markdown",
   "id": "3dbe83b3-78ee-46c2-9a02-8fcaa157e767",
   "metadata": {
    "jp-MarkdownHeadingCollapsed": true,
    "tags": []
   },
   "source": [
    "### Diameter = 15"
   ]
  },
  {
   "cell_type": "code",
   "execution_count": null,
   "id": "8b3d5f2b-0404-4c44-8bd0-be8ad9b54193",
   "metadata": {},
   "outputs": [],
   "source": [
    "# filter the training and test data according to the diameter\n",
    "diameter = 15\n",
    "results = filter_diameter_Hanoi(X_clas, y_clas, X_sen, diameter=diameter, df_information=df_information)\n",
    "X_clas_train, X_clas_test, y_clas_train, y_clas_test, X_sen_train, X_sen_test = results\n",
    "print(X_sen_train.sum())\n",
    "print(X_sen_test.sum())\n",
    "\n",
    "# create dictionary to store all results \n",
    "# which are visualized at the end\n",
    "results_d15 = dict()\n",
    "results_fairness[diameter] = dict()\n",
    "results_nofairness[diameter] = dict()"
   ]
  },
  {
   "cell_type": "markdown",
   "id": "4cd460bd-1816-4c00-98c6-54d39d3be69e",
   "metadata": {
    "jp-MarkdownHeadingCollapsed": true,
    "tags": []
   },
   "source": [
    "#### Method: Choose hyperparameter"
   ]
  },
  {
   "cell_type": "code",
   "execution_count": null,
   "id": "638f87a7-d131-41e8-9d82-38efad0747fd",
   "metadata": {
    "scrolled": true,
    "tags": []
   },
   "outputs": [],
   "source": [
    "model_clas = ETC_hyperparameter()\n",
    "model_clas.fit(X_clas_train, factor=0.2, print_coeff=True)\n",
    "acc,eo,di,TPRs = evaluate(model_clas)\n",
    "# define the starting point for all other algorithms\n",
    "start_thresholds = model_clas.thresholds"
   ]
  },
  {
   "cell_type": "code",
   "execution_count": null,
   "id": "08c82fbd-cf7a-4892-81a0-9bd9a4bbc304",
   "metadata": {},
   "outputs": [],
   "source": [
    "max_TPR = max(list(TPRs.values()))\n",
    "min_TPR = min(list(TPRs.values()))\n",
    "print('{} & {} & {} & {} & {} & {} & {}'.format(round(acc, 4),\n",
    "                                                round(max_TPR, 4),\n",
    "                                                round(min_TPR, 4),\n",
    "                                                round(di, 4),\n",
    "                                                round(eo, 4),\n",
    "                                                round((1-eo/max_TPR), 4),\n",
    "                                                round((1-di)*max_TPR, 4)))"
   ]
  },
  {
   "cell_type": "code",
   "execution_count": null,
   "id": "827ce34a-29ed-46c1-bdbb-ca127185895f",
   "metadata": {},
   "outputs": [],
   "source": [
    "results_d15[model_clas] = {'acc':acc,'eo':eo,'di':di,'TPRs':TPRs}\n",
    "results_nofairness[diameter][model_clas.alias] = dict()\n",
    "results_nofairness[diameter][model_clas.alias]['acc'] = acc\n",
    "results_nofairness[diameter][model_clas.alias]['eo'] = eo\n",
    "results_nofairness[diameter][model_clas.alias]['di']= di"
   ]
  },
  {
   "cell_type": "markdown",
   "id": "bf1a93ac-a9c8-4fd4-a68a-9fbd587a9c25",
   "metadata": {
    "jp-MarkdownHeadingCollapsed": true,
    "tags": []
   },
   "source": [
    "#### Find sigmoid hyperparameter"
   ]
  },
  {
   "cell_type": "code",
   "execution_count": null,
   "id": "c721e2b3-8882-44bd-bdd4-fddc09ca3aa9",
   "metadata": {},
   "outputs": [],
   "source": [
    "D_clas_train = compute_differences(X_clas_train,\n",
    "                                   y_clas_train,\n",
    "                                   model_clas.thresholds)\n",
    "D_clas_train.describe()"
   ]
  },
  {
   "cell_type": "code",
   "execution_count": null,
   "id": "d33bc7f8-8def-4d7b-a466-790ba1f825fc",
   "metadata": {},
   "outputs": [],
   "source": [
    "find_b_sigmoid(diff = -0.19,\n",
    "               dim = X_clas_train.shape[1],\n",
    "               sum_threshold = 0.8,\n",
    "               b_sigmoid = 100)"
   ]
  },
  {
   "cell_type": "code",
   "execution_count": null,
   "id": "4c7aa18f-9260-4515-8118-ab98dcbbca7f",
   "metadata": {},
   "outputs": [],
   "source": [
    "model_parent = EnsembleThresholdClassification(classifier=ThresholdClassification,\n",
    "                                               classifier_approx=ThresholdClassificationApproximation)\n",
    "model_parent.visualize_predict_approx(X_clas_train,\n",
    "                                      y_clas_train,\n",
    "                                      keys_list=list(model_clas.thresholds.keys()),\n",
    "                                      thresholds_array=np.array(list(model_clas.thresholds.values())),\n",
    "                                      b_sigmoid=100,\n",
    "                                      sum_threshold=0.8,\n",
    "                                      iloc_index_start=0,\n",
    "                                      iloc_index_end=5000)"
   ]
  },
  {
   "cell_type": "markdown",
   "id": "35327dae-6457-41f1-aa45-b65ae58002c3",
   "metadata": {
    "jp-MarkdownHeadingCollapsed": true,
    "tags": []
   },
   "source": [
    "#### Method: Optimize TPR - FPR (db.)"
   ]
  },
  {
   "cell_type": "code",
   "execution_count": null,
   "id": "30910327-f3ee-409b-bf73-155a711c6acd",
   "metadata": {
    "scrolled": true,
    "tags": []
   },
   "outputs": [],
   "source": [
    "b_sigmoid = 100\n",
    "sum_threshold = 0.8\n",
    "model_clas = ETC_optimizeFTPR_db()\n",
    "model_clas.fit(X_clas_train, \n",
    "               X_sen_train,\n",
    "               y_clas_train,\n",
    "               start_thresholds=start_thresholds,\n",
    "               b_sigmoid=b_sigmoid, \n",
    "               sum_threshold=sum_threshold,\n",
    "               print_coeff=True)\n",
    "acc,eo,di,TPRs = evaluate(model_clas)"
   ]
  },
  {
   "cell_type": "code",
   "execution_count": null,
   "id": "16fc1bf9-e447-4c1a-a212-1d6dad859c40",
   "metadata": {},
   "outputs": [],
   "source": [
    "results_d15[model_clas] = {'acc':acc,'eo':eo,'di':di,'TPRs':TPRs}\n",
    "results_nofairness[diameter][model_clas.alias] = dict()\n",
    "results_nofairness[diameter][model_clas.alias]['acc'] = acc\n",
    "results_nofairness[diameter][model_clas.alias]['eo'] = eo\n",
    "results_nofairness[diameter][model_clas.alias]['di']= di"
   ]
  },
  {
   "cell_type": "code",
   "execution_count": null,
   "id": "75c3190b-81f0-4c36-8732-0a959b613eaf",
   "metadata": {
    "tags": []
   },
   "outputs": [],
   "source": [
    "_, y_pred_approx = model_clas.predict_approx(X_clas_train,\n",
    "                                             b_sigmoid=b_sigmoid, \n",
    "                                             sum_threshold=sum_threshold)\n",
    "\n",
    "sensitive_features = list(X_sen_train.columns)\n",
    "for sensitive_feature in sensitive_features:\n",
    "    x_sen = X_sen_train.loc[:,sensitive_feature]\n",
    "    print('Sensitive feature:', sensitive_feature)\n",
    "    print(Cov(x_sen, y_pred_approx.loc[:,'y']))"
   ]
  },
  {
   "cell_type": "markdown",
   "id": "a7ef9e21-d353-4464-85d8-8636f2455e53",
   "metadata": {
    "jp-MarkdownHeadingCollapsed": true,
    "tags": []
   },
   "source": [
    "#### Method: Optimize TPR - FPR while enhancing fairness (db.)"
   ]
  },
  {
   "cell_type": "code",
   "execution_count": null,
   "id": "95d2050d-02fa-4155-a4a8-82e061e54898",
   "metadata": {
    "scrolled": true,
    "tags": []
   },
   "outputs": [],
   "source": [
    "b_sigmoid = 100\n",
    "sum_threshold = 0.8\n",
    "model_clas = ETC_optimizeFTPR_F_db()\n",
    "model_clas.fit(X_clas_train,\n",
    "               X_sen_train,\n",
    "               y_clas_train,\n",
    "               start_thresholds=start_thresholds,\n",
    "               b_sigmoid=b_sigmoid, \n",
    "               sum_threshold=sum_threshold,\n",
    "               c=0.11, #0.09, 0.1, 0.11!, 0.12, ..., 0.17\n",
    "               mu=0.2, #0.2\n",
    "               print_coeff=True)\n",
    "acc,eo,di,TPRs = evaluate(model_clas)"
   ]
  },
  {
   "cell_type": "code",
   "execution_count": null,
   "id": "736c6c8a-5c27-42c1-8ee1-ede1a1bf7ee6",
   "metadata": {
    "scrolled": true,
    "tags": []
   },
   "outputs": [],
   "source": [
    "# --- specify hyperparameters and model class\n",
    "start_hyper = 0.09\n",
    "extra_hypers = []\n",
    "b_sigmoid = 100\n",
    "sum_threshold = 0.8\n",
    "model_clas = ETC_optimizeFTPR_F_db()\n",
    "\n",
    "# --- define constant for stopping criterium\n",
    "comparison_algo = comparisons[model_clas.alias]\n",
    "di_nofairness = results_nofairness[diameter][comparison_algo]['di']\n",
    "print('disparate impact of approx. {} '\\\n",
    "      'from {} algorithm is used as a stopping criterium.'.format(round(di_nofairness,5),\n",
    "                                                                        comparison_algo))\n",
    "# ----- test model for different hyperparameters\n",
    "Cs = extra_hypers + [round(start_hyper+i*0.01,2) for i in range(0,40)]\n",
    "print('\\nHyperparameters to test:\\n', Cs)\n",
    "results_fairness[diameter][model_clas.alias] = dict()\n",
    "results_fairness[diameter][model_clas.alias]['ACCs'] = list()\n",
    "results_fairness[diameter][model_clas.alias]['EOs'] = list()\n",
    "results_fairness[diameter][model_clas.alias]['DIs'] = list()\n",
    "results_fairness[diameter][model_clas.alias]['Cs'] = list()\n",
    "for c in Cs:\n",
    "    print('\\nc:', c)\n",
    "    # --- train model for fixed hyperparameters\n",
    "    model_clas = ETC_optimizeFTPR_F_db()\n",
    "    model_clas.fit(X_clas_train,\n",
    "                   X_sen_train,\n",
    "                   y_clas_train,\n",
    "                   start_thresholds=start_thresholds,\n",
    "                   b_sigmoid=b_sigmoid, \n",
    "                   sum_threshold=sum_threshold,\n",
    "                   c=c, #0.09, 0.1, 0.11!, 0.12, ..., 0.17\n",
    "                   mu=0.2, #0.2\n",
    "                   print_coeff=False)\n",
    "    # --- evaluate model for fixed hyperparameters\n",
    "    acc,eo,di,TPRs = evaluate(model_clas)\n",
    "    # --- store evaluation until model is as unfair as comparison model\n",
    "    if di <= di_nofairness:\n",
    "        print('\\nHyperparameter {} and larger were not used'.format(c))\n",
    "        break\n",
    "    results_d15[model_clas] = {'acc':acc,'eo':eo,'di':di,'TPRs':TPRs}\n",
    "    results_fairness[diameter][model_clas.alias]['ACCs'].append(acc)\n",
    "    results_fairness[diameter][model_clas.alias]['EOs'].append(eo)\n",
    "    results_fairness[diameter][model_clas.alias]['DIs'].append(di)\n",
    "    results_fairness[diameter][model_clas.alias]['Cs'].append(c)"
   ]
  },
  {
   "cell_type": "markdown",
   "id": "b9676d19-9417-455d-8908-dcf94ce23097",
   "metadata": {
    "jp-MarkdownHeadingCollapsed": true,
    "tags": []
   },
   "source": [
    "#### Method: Optimize ACC (db.)"
   ]
  },
  {
   "cell_type": "code",
   "execution_count": null,
   "id": "be0aad01-3abc-43d5-8afb-474571eee0aa",
   "metadata": {
    "scrolled": true,
    "tags": []
   },
   "outputs": [],
   "source": [
    "b_sigmoid = 100\n",
    "sum_threshold = 0.8\n",
    "model_clas = ETC_optimizeACC_db()\n",
    "model_clas.fit(X_clas_train,\n",
    "               X_sen_train,\n",
    "               y_clas_train,\n",
    "               start_thresholds=start_thresholds,\n",
    "               b_sigmoid=b_sigmoid, \n",
    "               sum_threshold=sum_threshold,\n",
    "               print_coeff=True)\n",
    "acc,eo,di,TPRs = evaluate(model_clas)"
   ]
  },
  {
   "cell_type": "code",
   "execution_count": null,
   "id": "a09cfb4b-e6df-48e2-8706-766285909197",
   "metadata": {},
   "outputs": [],
   "source": [
    "results_d15[model_clas] = {'acc':acc,'eo':eo,'di':di,'TPRs':TPRs}\n",
    "results_nofairness[diameter][model_clas.alias] = dict()\n",
    "results_nofairness[diameter][model_clas.alias]['acc'] = acc\n",
    "results_nofairness[diameter][model_clas.alias]['eo'] = eo\n",
    "results_nofairness[diameter][model_clas.alias]['di']= di"
   ]
  },
  {
   "cell_type": "code",
   "execution_count": null,
   "id": "97fdd0b1-a4df-4e86-98fe-d46ebe9f089b",
   "metadata": {},
   "outputs": [],
   "source": [
    "_,_,_,_,_,acc_best,_ = model_clas.score(X_clas_train, \n",
    "                                        y_clas_train,\n",
    "                                        print_all_scores=False)\n",
    "acc_best"
   ]
  },
  {
   "cell_type": "code",
   "execution_count": null,
   "id": "3541b812-2847-4958-a180-65d6af72a75e",
   "metadata": {
    "tags": []
   },
   "outputs": [],
   "source": [
    "_, y_pred_approx = model_clas.predict_approx(X_clas_train,\n",
    "                                             b_sigmoid=b_sigmoid, \n",
    "                                             sum_threshold=sum_threshold)\n",
    "\n",
    "sensitive_features = list(X_sen_train.columns)\n",
    "for sensitive_feature in sensitive_features:\n",
    "    x_sen = X_sen_train.loc[:,sensitive_feature]\n",
    "    print('Sensitive feature:', sensitive_feature)\n",
    "    print(Cov(x_sen, y_pred_approx.loc[:,'y']))"
   ]
  },
  {
   "cell_type": "markdown",
   "id": "2db1f6b0-6d7b-442c-808e-9fd1f879135f",
   "metadata": {
    "jp-MarkdownHeadingCollapsed": true,
    "tags": []
   },
   "source": [
    "#### Method: Optimize ACC while enhancing fairness (db.)"
   ]
  },
  {
   "cell_type": "code",
   "execution_count": null,
   "id": "6dedbf44-5cfa-4a0d-afcc-8b4216151460",
   "metadata": {
    "scrolled": true,
    "tags": []
   },
   "outputs": [],
   "source": [
    "b_sigmoid = 100\n",
    "sum_threshold = 0.8\n",
    "model_clas = ETC_optimizeACC_F_db()\n",
    "model_clas.fit(X_clas_train,\n",
    "               X_sen_train,\n",
    "               y_clas_train,\n",
    "               start_thresholds=start_thresholds,\n",
    "               b_sigmoid=b_sigmoid, \n",
    "               sum_threshold=sum_threshold,\n",
    "               c=0.09, #0.082, 0.085, 0.09!, 0.1, 0.11, 0.12\n",
    "               mu=0.05, #0.05\n",
    "               print_coeff=True)\n",
    "acc,eo,di,TPRs = evaluate(model_clas)"
   ]
  },
  {
   "cell_type": "code",
   "execution_count": null,
   "id": "d4a45e18-43da-44de-8eaa-229168bf02af",
   "metadata": {
    "scrolled": true,
    "tags": []
   },
   "outputs": [],
   "source": [
    "# --- specify hyperparameters and model class\n",
    "start_hyper = 0.09\n",
    "extra_hypers = [0.082, 0.085]\n",
    "b_sigmoid=100\n",
    "sum_threshold=0.8\n",
    "model_clas = ETC_optimizeACC_F_db()\n",
    "\n",
    "# --- define constant for stopping criterium\n",
    "comparison_algo = comparisons[model_clas.alias]\n",
    "di_nofairness = results_nofairness[diameter][comparison_algo]['di']\n",
    "print('disparate impact of approx. {} '\\\n",
    "      'from {} algorithm is used as a stopping criterium.'.format(round(di_nofairness,5),\n",
    "                                                                        comparison_algo))\n",
    "# ----- test model for different hyperparameters\n",
    "Cs = extra_hypers + [round(start_hyper+i*0.01,2) for i in range(0,40)]\n",
    "print('\\nHyperparameters to test:\\n', Cs)\n",
    "results_fairness[diameter][model_clas.alias] = dict()\n",
    "results_fairness[diameter][model_clas.alias]['ACCs'] = list()\n",
    "results_fairness[diameter][model_clas.alias]['EOs'] = list()\n",
    "results_fairness[diameter][model_clas.alias]['DIs'] = list()\n",
    "results_fairness[diameter][model_clas.alias]['Cs'] = list()\n",
    "for c in Cs:\n",
    "    print('\\nc:', c)\n",
    "    # --- train model for fixed hyperparameters\n",
    "    model_clas = ETC_optimizeACC_F_db()\n",
    "    model_clas.fit(X_clas_train,\n",
    "                   X_sen_train,\n",
    "                   y_clas_train,\n",
    "                   start_thresholds=start_thresholds,\n",
    "                   b_sigmoid=b_sigmoid, \n",
    "                   sum_threshold=sum_threshold,\n",
    "                   c=c, #0.082, 0.085, 0.09!, 0.1, 0.11, 0.12\n",
    "                   mu=0.05, #0.05\n",
    "                   print_coeff=False)\n",
    "    # --- evaluate model for fixed hyperparameters\n",
    "    acc,eo,di,TPRs = evaluate(model_clas)\n",
    "    # --- store evaluation until model is as unfair as comparison model\n",
    "    if di <= di_nofairness:\n",
    "        print('\\nHyperparameter {} and larger were not used'.format(c))\n",
    "        break\n",
    "    results_d15[model_clas] = {'acc':acc,'eo':eo,'di':di,'TPRs':TPRs}\n",
    "    results_fairness[diameter][model_clas.alias]['ACCs'].append(acc)\n",
    "    results_fairness[diameter][model_clas.alias]['EOs'].append(eo)\n",
    "    results_fairness[diameter][model_clas.alias]['DIs'].append(di)\n",
    "    results_fairness[diameter][model_clas.alias]['Cs'].append(c)"
   ]
  },
  {
   "cell_type": "markdown",
   "id": "e4998165-49c3-4ec3-a513-c28b7573cae9",
   "metadata": {
    "jp-MarkdownHeadingCollapsed": true,
    "tags": []
   },
   "source": [
    "#### Method: Optimize DI (ndb.)"
   ]
  },
  {
   "cell_type": "code",
   "execution_count": null,
   "id": "6fa0e81a-e1f8-4cdb-aa6d-14871a1ec50c",
   "metadata": {},
   "outputs": [],
   "source": [
    "acc_best"
   ]
  },
  {
   "cell_type": "code",
   "execution_count": null,
   "id": "289733c9-90a4-465c-aa3b-53a2a31016e3",
   "metadata": {
    "scrolled": true,
    "tags": []
   },
   "outputs": [],
   "source": [
    "model_clas = ETC_optimizeDI_ndb()\n",
    "model_clas.fit(X_clas_train,\n",
    "               X_sen_train,\n",
    "               y_clas_train,\n",
    "               start_thresholds=start_thresholds,\n",
    "               mu=0.025, #0.025\n",
    "               lamb=0.01, #0.01, 0.02, 0.03, 0.04!, 0.05, ..., 0.44\n",
    "               acc_best=acc_best,\n",
    "               print_coeff=True)\n",
    "acc,eo,di,TPRs = evaluate(model_clas)"
   ]
  },
  {
   "cell_type": "code",
   "execution_count": null,
   "id": "1e14aee9-2040-48a1-8a98-e8e270d3d9f2",
   "metadata": {
    "scrolled": true,
    "tags": []
   },
   "outputs": [],
   "source": [
    "# --- specify hyperparameters and model class\n",
    "start_hyper = 0.44\n",
    "model_clas = ETC_optimizeDI_ndb()\n",
    "\n",
    "# --- define constant for stopping criterium\n",
    "comparison_algo = comparisons[model_clas.alias]\n",
    "di_nofairness = results_nofairness[diameter][comparison_algo]['di']\n",
    "print('disparate impact of approx. {} '\\\n",
    "      'from {} algorithm is used as a stopping criterium.'.format(round(di_nofairness,5),\n",
    "                                                                        comparison_algo))\n",
    "\n",
    "# --- test model for different hyperparameters\n",
    "Cs = [round(start_hyper-i*0.01,2) for i in range(0,50) if round(start_hyper-i*0.01,2)>0]\n",
    "print('\\nHyperparameters to test:\\n', Cs)\n",
    "results_fairness[diameter][model_clas.alias] = dict()\n",
    "results_fairness[diameter][model_clas.alias]['ACCs'] = list()\n",
    "results_fairness[diameter][model_clas.alias]['EOs'] = list()\n",
    "results_fairness[diameter][model_clas.alias]['DIs'] = list()\n",
    "results_fairness[diameter][model_clas.alias]['Lambdas'] = list()\n",
    "for lamb in Cs:\n",
    "    print('\\nlambda:', lamb)\n",
    "    # --- train model for fixed hyperparameters\n",
    "    model_clas = ETC_optimizeDI_ndb()\n",
    "    model_clas.fit(X_clas_train,\n",
    "                   X_sen_train,\n",
    "                   y_clas_train,\n",
    "                   start_thresholds=start_thresholds,\n",
    "                   mu=0.025, #0.025\n",
    "                   lamb=lamb, #0.02, 0.04!, 0.05, ..., 0.44\n",
    "                   acc_best=acc_best,\n",
    "                   print_coeff=False)\n",
    "    # --- evaluate model for fixed hyperparameters\n",
    "    acc,eo,di,TPRs = evaluate(model_clas)\n",
    "    # --- store evaluation until model is as unfair as comparison model\n",
    "    if di <= di_nofairness:\n",
    "        print('\\nHyperparameter {} and larger were not used'.format(c))\n",
    "        break\n",
    "    results_d15[model_clas] = {'acc':acc,'eo':eo,'di':di,'TPRs':TPRs}\n",
    "    results_fairness[diameter][model_clas.alias]['ACCs'].append(acc)\n",
    "    results_fairness[diameter][model_clas.alias]['EOs'].append(eo)\n",
    "    results_fairness[diameter][model_clas.alias]['DIs'].append(di)\n",
    "    results_fairness[diameter][model_clas.alias]['Lambdas'].append(lamb)"
   ]
  },
  {
   "cell_type": "markdown",
   "id": "ce454f9c-5ec7-4faa-ba58-c5f695af13e6",
   "metadata": {
    "jp-MarkdownHeadingCollapsed": true,
    "tags": []
   },
   "source": [
    "### Visualize Results"
   ]
  },
  {
   "cell_type": "code",
   "execution_count": null,
   "id": "ffa3555b-7bad-4756-a399-df009dcbb26f",
   "metadata": {
    "scrolled": true,
    "tags": []
   },
   "outputs": [],
   "source": [
    "aliase = ['H', 'T-F-PR', 'T-F-PR+F','ACC','ACC+F','DI+ACC']\n",
    "results_d5_final = dict()\n",
    "for key in results_d5.keys():\n",
    "    if key.alias in aliase:\n",
    "        results_d5_final[key] = results_d5[key]\n",
    "        \n",
    "df1, df2, df3, fig_d5 = graphics_bars(results_d5_final,\n",
    "                                      save_figs_d=5)"
   ]
  },
  {
   "cell_type": "code",
   "execution_count": null,
   "id": "9b48aa37-9129-4d8c-9c4d-d00d3933d417",
   "metadata": {
    "scrolled": true,
    "tags": []
   },
   "outputs": [],
   "source": [
    "aliase = ['H', 'T-F-PR', 'T-F-PR+F','ACC','ACC+F','DI+ACC']\n",
    "results_d10_final = dict()\n",
    "for key in results_d10.keys():\n",
    "    if key.alias in aliase:\n",
    "        results_d10_final[key] = results_d10[key]\n",
    "        \n",
    "df1, df2, df3, fig_d10 = graphics_bars(results_d10_final,\n",
    "                                       save_figs_d=10)"
   ]
  },
  {
   "cell_type": "code",
   "execution_count": null,
   "id": "32489682-cfc2-4dbf-9ace-1d9759929c21",
   "metadata": {
    "scrolled": true,
    "tags": []
   },
   "outputs": [],
   "source": [
    "aliase = ['H', 'T-F-PR', 'T-F-PR+F','ACC','ACC+F','DI+ACC']\n",
    "results_d15_final = dict()\n",
    "for key in results_d15.keys():\n",
    "    if key.alias in aliase:\n",
    "        results_d15_final[key] = results_d15[key]\n",
    "\n",
    "df1, df2, df3, fig_d15 = graphics_bars(results_d15_final,\n",
    "                                       save_figs_d=15)"
   ]
  },
  {
   "cell_type": "code",
   "execution_count": null,
   "id": "f4b17727-4762-476d-bdde-d9c8d42ada2f",
   "metadata": {
    "scrolled": true,
    "tags": []
   },
   "outputs": [],
   "source": [
    "graphics_scatter(results_fairness, \n",
    "                 results_nofairness,\n",
    "                 comparisons,\n",
    "                 horizontal=False,\n",
    "                 save_figs=True)"
   ]
  },
  {
   "cell_type": "code",
   "execution_count": null,
   "id": "71a8db98-2545-4f05-8f9c-87d81c640889",
   "metadata": {
    "scrolled": true,
    "tags": []
   },
   "outputs": [],
   "source": [
    "graphics_lines(results_fairness,\n",
    "               results_nofairness,\n",
    "               comparisons,\n",
    "               with_eo=False,\n",
    "               save_figs=True)"
   ]
  },
  {
   "cell_type": "code",
   "execution_count": null,
   "id": "b382d9ee-d299-4124-88fc-0a553ff2d3e8",
   "metadata": {},
   "outputs": [],
   "source": []
  }
 ],
 "metadata": {
  "kernelspec": {
   "display_name": "Python 3 (ipykernel)",
   "language": "python",
   "name": "python3"
  },
  "language_info": {
   "codemirror_mode": {
    "name": "ipython",
    "version": 3
   },
   "file_extension": ".py",
   "mimetype": "text/x-python",
   "name": "python",
   "nbconvert_exporter": "python",
   "pygments_lexer": "ipython3",
   "version": "3.9.15"
  },
  "toc-autonumbering": false
 },
 "nbformat": 4,
 "nbformat_minor": 5
}
